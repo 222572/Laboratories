{
 "cells": [
  {
   "cell_type": "markdown",
   "id": "0bcf9a66",
   "metadata": {},
   "source": [
    "Лабораторная работа 7"
   ]
  },
  {
   "cell_type": "code",
   "execution_count": 1,
   "id": "67823d29",
   "metadata": {},
   "outputs": [],
   "source": [
    "import xlwings as xw\n",
    "from xlwings.constants import AutoFillType\n",
    "import pandas as pd"
   ]
  },
  {
   "cell_type": "code",
   "execution_count": 2,
   "id": "daf7e6ab",
   "metadata": {},
   "outputs": [],
   "source": [
    "path1 = \"C:\\Мари\\учеба\\Финансовый университет\\\\1 курс\\\\2 семестр\\Технологии обработки данных\\Лабораторная работа 4\\data\\\\\"\n",
    "path2 = \"C:\\Мари\\учеба\\Финансовый университет\\\\1 курс\\\\2 семестр\\Технологии обработки данных\\Лабораторная работа 5\\data\\\\\"\n",
    "path3 = \"C:\\Мари\\учеба\\Финансовый университет\\\\1 курс\\\\2 семестр\\Технологии обработки данных\\Лабораторная работа 2\\data\\\\\""
   ]
  },
  {
   "cell_type": "markdown",
   "id": "ddd1bbd8",
   "metadata": {},
   "source": [
    "1. Загрузите данные из файлов reviews_sample.csv (ЛР2) и recipes_sample_with_tags_ingredients.csv (ЛР5) в виде pd.DataFrame. Обратите внимание на корректное считывание столбца(ов) с индексами. Оставьте в таблице с рецептами следующие столбцы: id, name, minutes, submitted, description, n_ingredients"
   ]
  },
  {
   "cell_type": "code",
   "execution_count": 3,
   "id": "393b85ec",
   "metadata": {},
   "outputs": [
    {
     "name": "stdout",
     "output_type": "stream",
     "text": [
      "               user_id  recipe_id        date  rating  \\\n",
      "Unnamed: 0                                              \n",
      "370476           21752      57993  2003-05-01       5   \n",
      "624300          431813     142201  2007-09-16       5   \n",
      "187037          400708     252013  2008-01-10       4   \n",
      "706134      2001852463     404716  2017-12-11       5   \n",
      "312179           95810     129396  2008-03-14       5   \n",
      "...                ...        ...         ...     ...   \n",
      "1013457        1270706     335534  2009-05-17       4   \n",
      "158736         2282344       8701  2012-06-03       0   \n",
      "1059834         689540     222001  2008-04-08       5   \n",
      "453285      2000242659     354979  2015-06-02       5   \n",
      "691207          463435     415599  2010-09-30       5   \n",
      "\n",
      "                                                       review  \n",
      "Unnamed: 0                                                     \n",
      "370476      Last week whole sides of frozen salmon fillet ...  \n",
      "624300      So simple and so tasty!  I used a yellow capsi...  \n",
      "187037      Very nice breakfast HH, easy to make and yummy...  \n",
      "706134      These are a favorite for the holidays and so e...  \n",
      "312179      Excellent soup!  The tomato flavor is just gre...  \n",
      "...                                                       ...  \n",
      "1013457     This recipe was great! I made it last night. I...  \n",
      "158736      This recipe is outstanding. I followed the rec...  \n",
      "1059834     Well, we were not a crowd but it was a fabulou...  \n",
      "453285      I have been a steak eater and dedicated BBQ gr...  \n",
      "691207      Wonderful and simple to prepare seasoning blen...  \n",
      "\n",
      "[126696 rows x 5 columns]\n"
     ]
    }
   ],
   "source": [
    "reviews_sample = pd.read_csv(path3 + 'reviews_sample.csv', sep=',')\n",
    "reviews_sample = reviews_sample.set_index('Unnamed: 0')\n",
    "print(reviews_sample)"
   ]
  },
  {
   "cell_type": "code",
   "execution_count": 4,
   "id": "d27942a7",
   "metadata": {},
   "outputs": [
    {
     "name": "stdout",
     "output_type": "stream",
     "text": [
      "           id                                          name  minutes  \\\n",
      "0       44123         george s at the cove  black bean soup       90   \n",
      "1       67664            healthy for them  yogurt popsicles       10   \n",
      "2       38798                  i can t believe it s spinach       30   \n",
      "3       35173                          italian  gut busters       45   \n",
      "4       84797      love is in the air  beef fondue   sauces       25   \n",
      "...       ...                                           ...      ...   \n",
      "29995  267661  zurie s holey rustic olive and cheddar bread       80   \n",
      "29996  386977          zwetschgenkuchen  bavarian plum cake      240   \n",
      "29997  103312   zwiebelkuchen   southwest german onion cake       75   \n",
      "29998  486161                                   zydeco soup       60   \n",
      "29999  298512        cookies by design   cookies on a stick       29   \n",
      "\n",
      "        submitted                                        description  \\\n",
      "0      2002-10-25  an original recipe created by chef scott meska...   \n",
      "1      2003-07-26  my children and their friends ask for my homem...   \n",
      "2      2002-08-29            these were so go, it surprised even me.   \n",
      "3      2002-07-27  my sister-in-law made these for us at a family...   \n",
      "4      2004-02-23  i think a fondue is a very romantic casual din...   \n",
      "...           ...                                                ...   \n",
      "29995  2007-11-25  this is based on a french recipe but i changed...   \n",
      "29996  2009-08-24  this is a traditional fresh plum cake, thought...   \n",
      "29997  2004-11-03  this is a traditional late summer early fall s...   \n",
      "29998  2012-08-29  this is a delicious soup that i originally fou...   \n",
      "29999  2008-04-15  i've heard of the 'cookies by design' company,...   \n",
      "\n",
      "       n_ingredients  \n",
      "0               18.0  \n",
      "1                NaN  \n",
      "2                8.0  \n",
      "3                NaN  \n",
      "4                NaN  \n",
      "...              ...  \n",
      "29995           10.0  \n",
      "29996           11.0  \n",
      "29997            NaN  \n",
      "29998            NaN  \n",
      "29999           10.0  \n",
      "\n",
      "[30000 rows x 6 columns]\n"
     ]
    }
   ],
   "source": [
    "recipes_sample_with_tags_ingredients = pd.read_csv(path2 + 'recipes_sample.csv', sep=',')\n",
    "recipes_sample_with_tags_ingredients = recipes_sample_with_tags_ingredients[\n",
    "    ['id', 'name', 'minutes', 'submitted', 'description', 'n_ingredients']\n",
    "]\n",
    "print(recipes_sample_with_tags_ingredients)"
   ]
  },
  {
   "cell_type": "markdown",
   "id": "0ba7fd4b",
   "metadata": {},
   "source": [
    "2. Случайным образом выберите 5% строк из каждой таблицы и сохраните две таблицы на разные листы в один файл recipes.xlsx. Дайте листам названия \"Рецепты\" и \"Отзывы\", соответствующие содержанию таблиц."
   ]
  },
  {
   "cell_type": "code",
   "execution_count": 5,
   "id": "27caf119",
   "metadata": {},
   "outputs": [],
   "source": [
    "recipes = pd.read_csv(path2 + 'recipes_sample.csv')\n",
    "reviews = pd.read_csv(path3 + 'reviews_sample.csv')"
   ]
  },
  {
   "cell_type": "code",
   "execution_count": 6,
   "id": "bf53bc97",
   "metadata": {},
   "outputs": [],
   "source": [
    "data1 = reviews.sample(frac=0.05, random_state=42)\n",
    "data2 = recipes.sample(frac=0.05, random_state=42)"
   ]
  },
  {
   "cell_type": "code",
   "execution_count": 7,
   "id": "fa9e0e1f",
   "metadata": {},
   "outputs": [],
   "source": [
    "wb1 = xw.Book()\n",
    "wb1.save(path1 + 'recipes.xlsx')"
   ]
  },
  {
   "cell_type": "code",
   "execution_count": 8,
   "id": "bda39d85",
   "metadata": {},
   "outputs": [],
   "source": [
    "sheet1 = wb1.sheets.add('Отзывы')\n",
    "sheet2 = wb1.sheets.add('Рецепты')"
   ]
  },
  {
   "cell_type": "code",
   "execution_count": 9,
   "id": "77f2a391",
   "metadata": {},
   "outputs": [
    {
     "data": {
      "text/plain": [
       "True"
      ]
     },
     "execution_count": 9,
     "metadata": {},
     "output_type": "execute_result"
    }
   ],
   "source": [
    "sheet1.range('A1').value = data1\n",
    "sheet2.range('A1').value = data2\n",
    "sheet1.range('A:A').api.Delete()\n",
    "sheet2.range('A:A').api.Delete()"
   ]
  },
  {
   "cell_type": "markdown",
   "id": "66053dbe",
   "metadata": {},
   "source": [
    "3. Используя xlwings, добавьте на лист Рецепты столбец seconds_assign, показывающий время выполнения рецепта в секундах. Выполните задание при помощи присваивания массива значений диапазону ячеек."
   ]
  },
  {
   "cell_type": "code",
   "execution_count": 10,
   "id": "5e126662",
   "metadata": {},
   "outputs": [
    {
     "name": "stdout",
     "output_type": "stream",
     "text": [
      "1500\n"
     ]
    }
   ],
   "source": [
    "seconds_assign = (data2[\"minutes\"] * 60).to_numpy()\n",
    "print(len(seconds_assign))"
   ]
  },
  {
   "cell_type": "code",
   "execution_count": 11,
   "id": "023f6507",
   "metadata": {},
   "outputs": [],
   "source": [
    "sheet2.range('G1').value = 'seconds_assign'\n",
    "sheet2.range('G2').options(transpose=True).value = seconds_assign"
   ]
  },
  {
   "cell_type": "markdown",
   "id": "39a61226",
   "metadata": {},
   "source": [
    "4. Используя xlwings, добавьте на лист Рецепты столбец seconds_formula, показывающий время выполнения рецепта в секундах. Выполните задание при помощи формул Excel."
   ]
  },
  {
   "cell_type": "code",
   "execution_count": 12,
   "id": "2d5095d2",
   "metadata": {},
   "outputs": [
    {
     "data": {
      "text/plain": [
       "True"
      ]
     },
     "execution_count": 12,
     "metadata": {},
     "output_type": "execute_result"
    }
   ],
   "source": [
    "sheet2.range('H1').value = 'seconds_formula'\n",
    "sheet2.range('H2').formula = '=B2*60'\n",
    "sheet2.range('H2').api.AutoFill(sheet2.range('H2:H{}'.format(len(seconds_assign) + 1)).api, 0)"
   ]
  },
  {
   "cell_type": "markdown",
   "id": "d4f2c6e8",
   "metadata": {},
   "source": [
    "5. Добавьте на лист Рецепты столбец n_reviews, содержащий кол-во отзывов для этого рецепта. Выполните задание при помощи формул Excel."
   ]
  },
  {
   "cell_type": "code",
   "execution_count": 13,
   "id": "6a87b4be",
   "metadata": {},
   "outputs": [
    {
     "data": {
      "text/plain": [
       "True"
      ]
     },
     "execution_count": 13,
     "metadata": {},
     "output_type": "execute_result"
    }
   ],
   "source": [
    "sheet2.range('I1').value = 'n_reviews'\n",
    "sheet2.range('I2').formula = '=COUNTIF(Отзывы!$C:$C, C2)'\n",
    "sheet2.range('I2').api.AutoFill(sheet2.range('I2:I{}'.format(len(data2) + 1)).api, 0)"
   ]
  },
  {
   "cell_type": "markdown",
   "id": "b7fd5881",
   "metadata": {},
   "source": [
    "6. Сделайте названия всех добавленных столбцов полужирными и выровняйте по центру ячейки."
   ]
  },
  {
   "cell_type": "code",
   "execution_count": 14,
   "id": "5f8d9c1c",
   "metadata": {},
   "outputs": [],
   "source": [
    "sheet1.range('G1:E1').api.HorizontalAlignment = xw.constants.HAlign.xlHAlignCenter\n",
    "sheet1.range('G1:E1').api.Font.Bold = True"
   ]
  },
  {
   "cell_type": "code",
   "execution_count": 15,
   "id": "43fc4b31",
   "metadata": {},
   "outputs": [],
   "source": [
    "sheet2.range('G1:I1').api.HorizontalAlignment = xw.constants.HAlign.xlHAlignCenter\n",
    "sheet2.range('G1:I1').api.Font.Bold = True"
   ]
  },
  {
   "cell_type": "markdown",
   "id": "d82cb89c",
   "metadata": {},
   "source": [
    "7. Раскрасьте ячейки столбца minutes в соответствии со следующим правилом: если рецепт выполняется быстрее 5 минут, то цвет - зеленый; от 5 до 10 минут - жёлтый; и больше 10 - красный."
   ]
  },
  {
   "cell_type": "code",
   "execution_count": 16,
   "id": "e0660ae6",
   "metadata": {},
   "outputs": [
    {
     "ename": "com_error",
     "evalue": "(-2146827864, 'OLE error 0x800a01a8', None, None)",
     "output_type": "error",
     "traceback": [
      "\u001b[1;31m---------------------------------------------------------------------------\u001b[0m",
      "\u001b[1;31mcom_error\u001b[0m                                 Traceback (most recent call last)",
      "\u001b[1;32m~\\AppData\\Local\\Temp\\ipykernel_19856\\2732241391.py\u001b[0m in \u001b[0;36m<module>\u001b[1;34m\u001b[0m\n\u001b[0;32m      1\u001b[0m \u001b[1;32mfor\u001b[0m \u001b[0mcell\u001b[0m \u001b[1;32min\u001b[0m \u001b[0msheet2\u001b[0m\u001b[1;33m.\u001b[0m\u001b[0mrange\u001b[0m\u001b[1;33m(\u001b[0m\u001b[1;34mf'C2:C{len(data2) + 1}'\u001b[0m\u001b[1;33m)\u001b[0m\u001b[1;33m:\u001b[0m\u001b[1;33m\u001b[0m\u001b[1;33m\u001b[0m\u001b[0m\n\u001b[1;32m----> 2\u001b[1;33m     \u001b[1;32mif\u001b[0m \u001b[0mcell\u001b[0m\u001b[1;33m.\u001b[0m\u001b[0mvalue\u001b[0m \u001b[1;33m<\u001b[0m \u001b[1;36m5\u001b[0m\u001b[1;33m:\u001b[0m\u001b[1;33m\u001b[0m\u001b[1;33m\u001b[0m\u001b[0m\n\u001b[0m\u001b[0;32m      3\u001b[0m         \u001b[0mcell\u001b[0m\u001b[1;33m.\u001b[0m\u001b[0mcolor\u001b[0m \u001b[1;33m=\u001b[0m \u001b[1;33m(\u001b[0m\u001b[1;36m0\u001b[0m\u001b[1;33m,\u001b[0m \u001b[1;36m255\u001b[0m\u001b[1;33m,\u001b[0m \u001b[1;36m0\u001b[0m\u001b[1;33m)\u001b[0m\u001b[1;33m\u001b[0m\u001b[1;33m\u001b[0m\u001b[0m\n\u001b[0;32m      4\u001b[0m     \u001b[1;32melif\u001b[0m \u001b[0mcell\u001b[0m\u001b[1;33m.\u001b[0m\u001b[0mvalue\u001b[0m \u001b[1;33m>=\u001b[0m \u001b[1;36m5\u001b[0m \u001b[1;32mand\u001b[0m \u001b[0mcell\u001b[0m\u001b[1;33m.\u001b[0m\u001b[0mvalue\u001b[0m \u001b[1;33m<=\u001b[0m \u001b[1;36m10\u001b[0m\u001b[1;33m:\u001b[0m\u001b[1;33m\u001b[0m\u001b[1;33m\u001b[0m\u001b[0m\n\u001b[0;32m      5\u001b[0m         \u001b[0mcell\u001b[0m\u001b[1;33m.\u001b[0m\u001b[0mcolor\u001b[0m \u001b[1;33m=\u001b[0m \u001b[1;33m(\u001b[0m\u001b[1;36m250\u001b[0m\u001b[1;33m,\u001b[0m \u001b[1;36m255\u001b[0m\u001b[1;33m,\u001b[0m \u001b[1;36m0\u001b[0m\u001b[1;33m)\u001b[0m\u001b[1;33m\u001b[0m\u001b[1;33m\u001b[0m\u001b[0m\n",
      "\u001b[1;32mC:\\ProgramData\\Anaconda3\\lib\\site-packages\\xlwings\\main.py\u001b[0m in \u001b[0;36mvalue\u001b[1;34m(self)\u001b[0m\n\u001b[0;32m   2306\u001b[0m                  \u001b[0msee\u001b[0m \u001b[1;33m:\u001b[0m\u001b[0mmeth\u001b[0m\u001b[1;33m:\u001b[0m\u001b[0;31m`\u001b[0m\u001b[0mxlwings\u001b[0m\u001b[1;33m.\u001b[0m\u001b[0mRange\u001b[0m\u001b[1;33m.\u001b[0m\u001b[0moptions\u001b[0m\u001b[0;31m`\u001b[0m\u001b[1;33m\u001b[0m\u001b[1;33m\u001b[0m\u001b[0m\n\u001b[0;32m   2307\u001b[0m         \"\"\"\n\u001b[1;32m-> 2308\u001b[1;33m         \u001b[1;32mreturn\u001b[0m \u001b[0mconversion\u001b[0m\u001b[1;33m.\u001b[0m\u001b[0mread\u001b[0m\u001b[1;33m(\u001b[0m\u001b[0mself\u001b[0m\u001b[1;33m,\u001b[0m \u001b[1;32mNone\u001b[0m\u001b[1;33m,\u001b[0m \u001b[0mself\u001b[0m\u001b[1;33m.\u001b[0m\u001b[0m_options\u001b[0m\u001b[1;33m)\u001b[0m\u001b[1;33m\u001b[0m\u001b[1;33m\u001b[0m\u001b[0m\n\u001b[0m\u001b[0;32m   2309\u001b[0m \u001b[1;33m\u001b[0m\u001b[0m\n\u001b[0;32m   2310\u001b[0m     \u001b[1;33m@\u001b[0m\u001b[0mvalue\u001b[0m\u001b[1;33m.\u001b[0m\u001b[0msetter\u001b[0m\u001b[1;33m\u001b[0m\u001b[1;33m\u001b[0m\u001b[0m\n",
      "\u001b[1;32mC:\\ProgramData\\Anaconda3\\lib\\site-packages\\xlwings\\conversion\\__init__.py\u001b[0m in \u001b[0;36mread\u001b[1;34m(rng, value, options)\u001b[0m\n\u001b[0;32m     53\u001b[0m     \u001b[0mpipeline\u001b[0m \u001b[1;33m=\u001b[0m \u001b[0maccessors\u001b[0m\u001b[1;33m.\u001b[0m\u001b[0mget\u001b[0m\u001b[1;33m(\u001b[0m\u001b[0mconvert\u001b[0m\u001b[1;33m,\u001b[0m \u001b[0mconvert\u001b[0m\u001b[1;33m)\u001b[0m\u001b[1;33m.\u001b[0m\u001b[0mreader\u001b[0m\u001b[1;33m(\u001b[0m\u001b[0moptions\u001b[0m\u001b[1;33m)\u001b[0m\u001b[1;33m\u001b[0m\u001b[1;33m\u001b[0m\u001b[0m\n\u001b[0;32m     54\u001b[0m     \u001b[0mctx\u001b[0m \u001b[1;33m=\u001b[0m \u001b[0mConversionContext\u001b[0m\u001b[1;33m(\u001b[0m\u001b[0mrng\u001b[0m\u001b[1;33m=\u001b[0m\u001b[0mrng\u001b[0m\u001b[1;33m,\u001b[0m \u001b[0mvalue\u001b[0m\u001b[1;33m=\u001b[0m\u001b[0mvalue\u001b[0m\u001b[1;33m)\u001b[0m\u001b[1;33m\u001b[0m\u001b[1;33m\u001b[0m\u001b[0m\n\u001b[1;32m---> 55\u001b[1;33m     \u001b[0mpipeline\u001b[0m\u001b[1;33m(\u001b[0m\u001b[0mctx\u001b[0m\u001b[1;33m)\u001b[0m\u001b[1;33m\u001b[0m\u001b[1;33m\u001b[0m\u001b[0m\n\u001b[0m\u001b[0;32m     56\u001b[0m     \u001b[1;32mreturn\u001b[0m \u001b[0mctx\u001b[0m\u001b[1;33m.\u001b[0m\u001b[0mvalue\u001b[0m\u001b[1;33m\u001b[0m\u001b[1;33m\u001b[0m\u001b[0m\n\u001b[0;32m     57\u001b[0m \u001b[1;33m\u001b[0m\u001b[0m\n",
      "\u001b[1;32mC:\\ProgramData\\Anaconda3\\lib\\site-packages\\xlwings\\conversion\\framework.py\u001b[0m in \u001b[0;36m__call__\u001b[1;34m(self, *args, **kwargs)\u001b[0m\n\u001b[0;32m     74\u001b[0m     \u001b[1;32mdef\u001b[0m \u001b[0m__call__\u001b[0m\u001b[1;33m(\u001b[0m\u001b[0mself\u001b[0m\u001b[1;33m,\u001b[0m \u001b[1;33m*\u001b[0m\u001b[0margs\u001b[0m\u001b[1;33m,\u001b[0m \u001b[1;33m**\u001b[0m\u001b[0mkwargs\u001b[0m\u001b[1;33m)\u001b[0m\u001b[1;33m:\u001b[0m\u001b[1;33m\u001b[0m\u001b[1;33m\u001b[0m\u001b[0m\n\u001b[0;32m     75\u001b[0m         \u001b[1;32mfor\u001b[0m \u001b[0mstage\u001b[0m \u001b[1;32min\u001b[0m \u001b[0mself\u001b[0m\u001b[1;33m:\u001b[0m\u001b[1;33m\u001b[0m\u001b[1;33m\u001b[0m\u001b[0m\n\u001b[1;32m---> 76\u001b[1;33m             \u001b[0mstage\u001b[0m\u001b[1;33m(\u001b[0m\u001b[1;33m*\u001b[0m\u001b[0margs\u001b[0m\u001b[1;33m,\u001b[0m \u001b[1;33m**\u001b[0m\u001b[0mkwargs\u001b[0m\u001b[1;33m)\u001b[0m\u001b[1;33m\u001b[0m\u001b[1;33m\u001b[0m\u001b[0m\n\u001b[0m\u001b[0;32m     77\u001b[0m \u001b[1;33m\u001b[0m\u001b[0m\n\u001b[0;32m     78\u001b[0m \u001b[1;33m\u001b[0m\u001b[0m\n",
      "\u001b[1;32mC:\\ProgramData\\Anaconda3\\lib\\site-packages\\xlwings\\conversion\\standard.py\u001b[0m in \u001b[0;36m__call__\u001b[1;34m(self, c)\u001b[0m\n\u001b[0;32m     97\u001b[0m             \u001b[0mc\u001b[0m\u001b[1;33m.\u001b[0m\u001b[0mvalue\u001b[0m \u001b[1;33m=\u001b[0m \u001b[0mparts\u001b[0m\u001b[1;33m\u001b[0m\u001b[1;33m\u001b[0m\u001b[0m\n\u001b[0;32m     98\u001b[0m         \u001b[1;32melif\u001b[0m \u001b[0mc\u001b[0m\u001b[1;33m.\u001b[0m\u001b[0mrange\u001b[0m\u001b[1;33m:\u001b[0m\u001b[1;33m\u001b[0m\u001b[1;33m\u001b[0m\u001b[0m\n\u001b[1;32m---> 99\u001b[1;33m             \u001b[0mc\u001b[0m\u001b[1;33m.\u001b[0m\u001b[0mvalue\u001b[0m \u001b[1;33m=\u001b[0m \u001b[0mc\u001b[0m\u001b[1;33m.\u001b[0m\u001b[0mrange\u001b[0m\u001b[1;33m.\u001b[0m\u001b[0mraw_value\u001b[0m\u001b[1;33m\u001b[0m\u001b[1;33m\u001b[0m\u001b[0m\n\u001b[0m\u001b[0;32m    100\u001b[0m \u001b[1;33m\u001b[0m\u001b[0m\n\u001b[0;32m    101\u001b[0m \u001b[1;33m\u001b[0m\u001b[0m\n",
      "\u001b[1;32mC:\\ProgramData\\Anaconda3\\lib\\site-packages\\xlwings\\main.py\u001b[0m in \u001b[0;36mraw_value\u001b[1;34m(self)\u001b[0m\n\u001b[0;32m   1872\u001b[0m         \u001b[0mcompatibility\u001b[0m\u001b[1;33m.\u001b[0m\u001b[1;33m\u001b[0m\u001b[1;33m\u001b[0m\u001b[0m\n\u001b[0;32m   1873\u001b[0m         \"\"\"\n\u001b[1;32m-> 1874\u001b[1;33m         \u001b[1;32mreturn\u001b[0m \u001b[0mself\u001b[0m\u001b[1;33m.\u001b[0m\u001b[0mimpl\u001b[0m\u001b[1;33m.\u001b[0m\u001b[0mraw_value\u001b[0m\u001b[1;33m\u001b[0m\u001b[1;33m\u001b[0m\u001b[0m\n\u001b[0m\u001b[0;32m   1875\u001b[0m \u001b[1;33m\u001b[0m\u001b[0m\n\u001b[0;32m   1876\u001b[0m     \u001b[1;33m@\u001b[0m\u001b[0mraw_value\u001b[0m\u001b[1;33m.\u001b[0m\u001b[0msetter\u001b[0m\u001b[1;33m\u001b[0m\u001b[1;33m\u001b[0m\u001b[0m\n",
      "\u001b[1;32mC:\\ProgramData\\Anaconda3\\lib\\site-packages\\xlwings\\_xlwindows.py\u001b[0m in \u001b[0;36mraw_value\u001b[1;34m(self)\u001b[0m\n\u001b[0;32m   1125\u001b[0m     \u001b[1;32mdef\u001b[0m \u001b[0mraw_value\u001b[0m\u001b[1;33m(\u001b[0m\u001b[0mself\u001b[0m\u001b[1;33m)\u001b[0m\u001b[1;33m:\u001b[0m\u001b[1;33m\u001b[0m\u001b[1;33m\u001b[0m\u001b[0m\n\u001b[0;32m   1126\u001b[0m         \u001b[1;32mif\u001b[0m \u001b[0mself\u001b[0m\u001b[1;33m.\u001b[0m\u001b[0mxl\u001b[0m \u001b[1;32mis\u001b[0m \u001b[1;32mnot\u001b[0m \u001b[1;32mNone\u001b[0m\u001b[1;33m:\u001b[0m\u001b[1;33m\u001b[0m\u001b[1;33m\u001b[0m\u001b[0m\n\u001b[1;32m-> 1127\u001b[1;33m             \u001b[1;32mreturn\u001b[0m \u001b[0mself\u001b[0m\u001b[1;33m.\u001b[0m\u001b[0mxl\u001b[0m\u001b[1;33m.\u001b[0m\u001b[0mValue\u001b[0m\u001b[1;33m\u001b[0m\u001b[1;33m\u001b[0m\u001b[0m\n\u001b[0m\u001b[0;32m   1128\u001b[0m         \u001b[1;32melse\u001b[0m\u001b[1;33m:\u001b[0m\u001b[1;33m\u001b[0m\u001b[1;33m\u001b[0m\u001b[0m\n\u001b[0;32m   1129\u001b[0m             \u001b[1;32mreturn\u001b[0m \u001b[1;32mNone\u001b[0m\u001b[1;33m\u001b[0m\u001b[1;33m\u001b[0m\u001b[0m\n",
      "\u001b[1;32mC:\\ProgramData\\Anaconda3\\lib\\site-packages\\xlwings\\_xlwindows.py\u001b[0m in \u001b[0;36m__getattr__\u001b[1;34m(self, item)\u001b[0m\n\u001b[0;32m    180\u001b[0m         \u001b[1;32mwhile\u001b[0m \u001b[1;32mTrue\u001b[0m\u001b[1;33m:\u001b[0m\u001b[1;33m\u001b[0m\u001b[1;33m\u001b[0m\u001b[0m\n\u001b[0;32m    181\u001b[0m             \u001b[1;32mtry\u001b[0m\u001b[1;33m:\u001b[0m\u001b[1;33m\u001b[0m\u001b[1;33m\u001b[0m\u001b[0m\n\u001b[1;32m--> 182\u001b[1;33m                 \u001b[0mv\u001b[0m \u001b[1;33m=\u001b[0m \u001b[0mgetattr\u001b[0m\u001b[1;33m(\u001b[0m\u001b[0mself\u001b[0m\u001b[1;33m.\u001b[0m\u001b[0m_inner\u001b[0m\u001b[1;33m,\u001b[0m \u001b[0mitem\u001b[0m\u001b[1;33m)\u001b[0m\u001b[1;33m\u001b[0m\u001b[1;33m\u001b[0m\u001b[0m\n\u001b[0m\u001b[0;32m    183\u001b[0m                 \u001b[1;32mif\u001b[0m \u001b[0misinstance\u001b[0m\u001b[1;33m(\u001b[0m\u001b[0mv\u001b[0m\u001b[1;33m,\u001b[0m \u001b[1;33m(\u001b[0m\u001b[0mCDispatch\u001b[0m\u001b[1;33m,\u001b[0m \u001b[0mCoClassBaseClass\u001b[0m\u001b[1;33m,\u001b[0m \u001b[0mDispatchBaseClass\u001b[0m\u001b[1;33m)\u001b[0m\u001b[1;33m)\u001b[0m\u001b[1;33m:\u001b[0m\u001b[1;33m\u001b[0m\u001b[1;33m\u001b[0m\u001b[0m\n\u001b[0;32m    184\u001b[0m                     \u001b[1;32mreturn\u001b[0m \u001b[0mCOMRetryObjectWrapper\u001b[0m\u001b[1;33m(\u001b[0m\u001b[0mv\u001b[0m\u001b[1;33m)\u001b[0m\u001b[1;33m\u001b[0m\u001b[1;33m\u001b[0m\u001b[0m\n",
      "\u001b[1;32mC:\\ProgramData\\Anaconda3\\lib\\site-packages\\win32com\\client\\dynamic.py\u001b[0m in \u001b[0;36m__getattr__\u001b[1;34m(self, attr)\u001b[0m\n\u001b[0;32m    626\u001b[0m             )\n\u001b[0;32m    627\u001b[0m             \u001b[1;32mtry\u001b[0m\u001b[1;33m:\u001b[0m\u001b[1;33m\u001b[0m\u001b[1;33m\u001b[0m\u001b[0m\n\u001b[1;32m--> 628\u001b[1;33m                 \u001b[0mret\u001b[0m \u001b[1;33m=\u001b[0m \u001b[0mself\u001b[0m\u001b[1;33m.\u001b[0m\u001b[0m_oleobj_\u001b[0m\u001b[1;33m.\u001b[0m\u001b[0mInvoke\u001b[0m\u001b[1;33m(\u001b[0m\u001b[0mretEntry\u001b[0m\u001b[1;33m.\u001b[0m\u001b[0mdispid\u001b[0m\u001b[1;33m,\u001b[0m \u001b[1;36m0\u001b[0m\u001b[1;33m,\u001b[0m \u001b[0minvoke_type\u001b[0m\u001b[1;33m,\u001b[0m \u001b[1;36m1\u001b[0m\u001b[1;33m)\u001b[0m\u001b[1;33m\u001b[0m\u001b[1;33m\u001b[0m\u001b[0m\n\u001b[0m\u001b[0;32m    629\u001b[0m             \u001b[1;32mexcept\u001b[0m \u001b[0mpythoncom\u001b[0m\u001b[1;33m.\u001b[0m\u001b[0mcom_error\u001b[0m \u001b[1;32mas\u001b[0m \u001b[0mdetails\u001b[0m\u001b[1;33m:\u001b[0m\u001b[1;33m\u001b[0m\u001b[1;33m\u001b[0m\u001b[0m\n\u001b[0;32m    630\u001b[0m                 \u001b[1;32mif\u001b[0m \u001b[0mdetails\u001b[0m\u001b[1;33m.\u001b[0m\u001b[0mhresult\u001b[0m \u001b[1;32min\u001b[0m \u001b[0mERRORS_BAD_CONTEXT\u001b[0m\u001b[1;33m:\u001b[0m\u001b[1;33m\u001b[0m\u001b[1;33m\u001b[0m\u001b[0m\n",
      "\u001b[1;31mcom_error\u001b[0m: (-2146827864, 'OLE error 0x800a01a8', None, None)"
     ]
    }
   ],
   "source": [
    "for cell in sheet2.range(f'C2:C{len(data2) + 1}'):\n",
    "    if cell.value < 5:\n",
    "        cell.color = (0, 255, 0)\n",
    "    elif cell.value >= 5 and cell.value <= 10:\n",
    "        cell.color = (250, 255, 0)\n",
    "    else:\n",
    "        cell.color = (255, 0, 0)"
   ]
  },
  {
   "cell_type": "markdown",
   "id": "cd804728",
   "metadata": {},
   "source": [
    "8. Напишите функцию validate(), которая проверяет соответствие всех строк из листа Отзывы следующим правилам:\n",
    "\n",
    "Рейтинг - это число от 0 до 5 включительно\n",
    "\n",
    "Соответствующий рецепт имеется на листе Рецепты\n",
    "\n",
    "В случае несоответствия этим правилам, выделите строку красным цветом"
   ]
  },
  {
   "cell_type": "code",
   "execution_count": null,
   "id": "add24b49",
   "metadata": {},
   "outputs": [],
   "source": [
    "def validate():\n",
    "    wb = xw.Book.caller()\n",
    "    reviews_sheet = wb.sheets['Отзывы']\n",
    "    recipes_sheet = wb.sheets['Рецепты']\n",
    "\n",
    "    for row in range(2, reviews_sheet.range('A1').current_region.last_cell.row + 1):\n",
    "        rating = reviews_sheet.range('E{}'.format(row)).value\n",
    "        recipe_id = reviews_sheet.range('C{}'.format(row)).value\n",
    "        recipe_match = recipes_sheet.range('B:C').value == recipe_id\n",
    "        if not isinstance(rating, (int, float)) or rating < 0 or rating > 5 or not any(recipe_match):\n",
    "            reviews_sheet.range('A{}:D{}'.format(row, row)).color = (255, 0, 0)"
   ]
  }
 ],
 "metadata": {
  "kernelspec": {
   "display_name": "Python 3 (ipykernel)",
   "language": "python",
   "name": "python3"
  },
  "language_info": {
   "codemirror_mode": {
    "name": "ipython",
    "version": 3
   },
   "file_extension": ".py",
   "mimetype": "text/x-python",
   "name": "python",
   "nbconvert_exporter": "python",
   "pygments_lexer": "ipython3",
   "version": "3.9.13"
  }
 },
 "nbformat": 4,
 "nbformat_minor": 5
}
