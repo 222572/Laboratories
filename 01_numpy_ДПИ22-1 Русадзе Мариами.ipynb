{
 "cells": [
  {
   "cell_type": "code",
   "execution_count": 9,
   "id": "3801d197",
   "metadata": {},
   "outputs": [],
   "source": [
    "path = \"C:\\\\Мари\\\\учеба\\\\Финансовый университет\\\\1 курс\\\\2 семестр\\\\Технологии обработки данных\\\\Лабораторная работа 1\\\\data\\\\minutes_n_ingredients.csv\""
   ]
  },
  {
   "cell_type": "code",
   "execution_count": 10,
   "id": "558defc8",
   "metadata": {},
   "outputs": [
    {
     "data": {
      "text/plain": [
       "array([[127244,     60,     16],\n",
       "       [ 23891,     25,      7],\n",
       "       [ 94746,     10,      6],\n",
       "       [ 67660,      5,      6],\n",
       "       [157911,     60,     14]])"
      ]
     },
     "execution_count": 10,
     "metadata": {},
     "output_type": "execute_result"
    }
   ],
   "source": [
    "# Задание 1\n",
    "import numpy as np\n",
    "arr = np.loadtxt(path, int, skiprows=1, delimiter=',')\n",
    "arr[:5, :]"
   ]
  },
  {
   "cell_type": "code",
   "execution_count": 12,
   "id": "4d85c8fd",
   "metadata": {},
   "outputs": [
    {
     "name": "stdout",
     "output_type": "stream",
     "text": [
      "Второй столбец:\n",
      "21601.00169\n",
      "0\n",
      "2147483647\n",
      "40.0\n",
      "\n",
      "Третий столбец:\n",
      "9.05528\n",
      "1\n",
      "39\n",
      "9.0\n"
     ]
    }
   ],
   "source": [
    "# Задание 2\n",
    "print(\"Второй столбец:\")\n",
    "print(np.mean(arr[:, 1]))\n",
    "print(np.min(arr[:, 1]))\n",
    "print(np.max(arr[:, 1]))\n",
    "print(np.median(arr[:, 1]))\n",
    "print(\"\\nТретий столбец:\")\n",
    "print(np.mean(arr[:, 2]))\n",
    "print(np.min(arr[:, 2]))\n",
    "print(np.max(arr[:, 2]))\n",
    "print(np.median(arr[:, 2]))"
   ]
  },
  {
   "cell_type": "code",
   "execution_count": 13,
   "id": "59867667",
   "metadata": {},
   "outputs": [
    {
     "name": "stdout",
     "output_type": "stream",
     "text": [
      "[[127244     60     16]\n",
      " [ 23891     25      7]\n",
      " [ 94746     10      6]\n",
      " ...\n",
      " [498432     65     15]\n",
      " [370915      5      4]\n",
      " [ 81993     65     14]]\n"
     ]
    }
   ],
   "source": [
    "# Задание 3\n",
    "quan = np.quantile(arr[:, 1], 0.75)\n",
    "arr[:, 1] = np.where(arr[:, 1] <= quan, arr[:, 1], quan)\n",
    "print(arr)"
   ]
  },
  {
   "cell_type": "code",
   "execution_count": 14,
   "id": "df2fffae",
   "metadata": {},
   "outputs": [
    {
     "name": "stdout",
     "output_type": "stream",
     "text": [
      "479\n"
     ]
    }
   ],
   "source": [
    "# Задание 4\n",
    "print(np.count_nonzero(arr[:, 1] == 0))\n",
    "arr[:, 1] = np.where(arr[:, 1] != 0, arr[:, 1], 1)"
   ]
  },
  {
   "cell_type": "code",
   "execution_count": 15,
   "id": "4c32158b",
   "metadata": {},
   "outputs": [
    {
     "name": "stdout",
     "output_type": "stream",
     "text": [
      "100000\n"
     ]
    }
   ],
   "source": [
    "# Задание 5\n",
    "print(len(np.unique(arr[:, 0])))"
   ]
  },
  {
   "cell_type": "code",
   "execution_count": 16,
   "id": "774d0735",
   "metadata": {},
   "outputs": [
    {
     "name": "stdout",
     "output_type": "stream",
     "text": [
      "37\n",
      "[ 1  2  3  4  5  6  7  8  9 10 11 12 13 14 15 16 17 18 19 20 21 22 23 24\n",
      " 25 26 27 28 29 30 31 32 33 34 35 37 39]\n"
     ]
    }
   ],
   "source": [
    "# Задание 6\n",
    "print(len(np.unique(arr[:, 2])))\n",
    "print(np.unique(arr[:, 2]))"
   ]
  },
  {
   "cell_type": "code",
   "execution_count": 17,
   "id": "e129d20f",
   "metadata": {},
   "outputs": [
    {
     "name": "stdout",
     "output_type": "stream",
     "text": [
      "[[446597     15      5]\n",
      " [204134      5      3]\n",
      " [ 25623      6      4]\n",
      " ...\n",
      " [ 52088     60      5]\n",
      " [128811     15      4]\n",
      " [370915      5      4]]\n"
     ]
    }
   ],
   "source": [
    "# Задание 7\n",
    "arr2 = arr[np.where(arr[:, 2] <= 5)]\n",
    "print(arr2)"
   ]
  },
  {
   "cell_type": "code",
   "execution_count": 18,
   "id": "72934f9e",
   "metadata": {},
   "outputs": [
    {
     "name": "stdout",
     "output_type": "stream",
     "text": [
      "24.0\n"
     ]
    }
   ],
   "source": [
    "# Задание 8\n",
    "ingr_in_minute = arr[:, 2] / arr[: ,1]\n",
    "print(np.max(ingr_in_minute))"
   ]
  },
  {
   "cell_type": "code",
   "execution_count": 19,
   "id": "b1432ed6",
   "metadata": {},
   "outputs": [
    {
     "name": "stdout",
     "output_type": "stream",
     "text": [
      "10.03\n"
     ]
    }
   ],
   "source": [
    "# Задание 9\n",
    "sorting = np.array(sorted(arr, key=lambda a_entry: a_entry[1], reverse=True))\n",
    "print(np.mean(sorting[:100, 2]))"
   ]
  },
  {
   "cell_type": "code",
   "execution_count": 20,
   "id": "0490fca3",
   "metadata": {},
   "outputs": [
    {
     "name": "stdout",
     "output_type": "stream",
     "text": [
      "[[210167     30     14]\n",
      " [178131     30      5]\n",
      " [300982     60     14]\n",
      " [ 27393     65     12]\n",
      " [ 65985      2      3]\n",
      " [313702     35      4]\n",
      " [184316     65     18]\n",
      " [505841     20     12]\n",
      " [ 23647     30     11]\n",
      " [289441     65      7]]\n"
     ]
    }
   ],
   "source": [
    "# Задание 10\n",
    "idx = np.random.randint(len(arr), size=10)\n",
    "print(arr[idx, :])"
   ]
  },
  {
   "cell_type": "code",
   "execution_count": 21,
   "id": "425eafe4",
   "metadata": {},
   "outputs": [
    {
     "name": "stdout",
     "output_type": "stream",
     "text": [
      "58.802\n"
     ]
    }
   ],
   "source": [
    "# Задание 11\n",
    "print(len(arr[np.where(arr[:, 2] < np.mean(arr[:, 2]))]) / len(arr) * 100)"
   ]
  },
  {
   "cell_type": "code",
   "execution_count": 22,
   "id": "d09e40ee",
   "metadata": {},
   "outputs": [
    {
     "data": {
      "text/plain": [
       "array([[127244,     60,     16,      0],\n",
       "       [ 23891,     25,      7,      0],\n",
       "       [ 94746,     10,      6,      0],\n",
       "       ...,\n",
       "       [498432,     65,     15,      0],\n",
       "       [370915,      5,      4,      1],\n",
       "       [ 81993,     65,     14,      0]])"
      ]
     },
     "execution_count": 22,
     "metadata": {},
     "output_type": "execute_result"
    }
   ],
   "source": [
    "# Задание 12\n",
    "simple = np.c_[arr, np.zeros(len(arr)).astype(int)]\n",
    "simple[:, 3] = np.where((arr[:, 1] <= 20) & (arr[:, 2] <= 5), 1, 0)\n",
    "simple"
   ]
  },
  {
   "cell_type": "code",
   "execution_count": 23,
   "id": "3b1d6f2f",
   "metadata": {},
   "outputs": [
    {
     "name": "stdout",
     "output_type": "stream",
     "text": [
      "9.552\n"
     ]
    }
   ],
   "source": [
    "# Задание 13\n",
    "print(len(simple[np.where(simple[:, 3] == 1)]) / len(simple) * 100)"
   ]
  },
  {
   "cell_type": "code",
   "execution_count": 24,
   "id": "85c8a9d9",
   "metadata": {},
   "outputs": [
    {
     "data": {
      "text/plain": [
       "array([[     2, 127244,      0],\n",
       "       [     2,  23891,      0],\n",
       "       [     1,  94746,      0],\n",
       "       ...,\n",
       "       [     2, 498432,      0],\n",
       "       [     0, 370915,      1],\n",
       "       [     2,  81993,      0]])"
      ]
     },
     "execution_count": 24,
     "metadata": {},
     "output_type": "execute_result"
    }
   ],
   "source": [
    "# Задание 14\n",
    "duration = np.array([np.zeros(len(arr)).astype(int), arr[:, 0], simple[:, 3]]).transpose()\n",
    "duration[:, 0] = np.where((arr[:, 1] >= 10) & (arr[:, 1] < 20), 1, duration[:, 0])\n",
    "duration[:, 0] = np.where(arr[:, 1] >= 20, 2, duration[:, 0])\n",
    "duration"
   ]
  }
 ],
 "metadata": {
  "kernelspec": {
   "display_name": "Python 3 (ipykernel)",
   "language": "python",
   "name": "python3"
  },
  "language_info": {
   "codemirror_mode": {
    "name": "ipython",
    "version": 3
   },
   "file_extension": ".py",
   "mimetype": "text/x-python",
   "name": "python",
   "nbconvert_exporter": "python",
   "pygments_lexer": "ipython3",
   "version": "3.9.13"
  }
 },
 "nbformat": 4,
 "nbformat_minor": 5
}
