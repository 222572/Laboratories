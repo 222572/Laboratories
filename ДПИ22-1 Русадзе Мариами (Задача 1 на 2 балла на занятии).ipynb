{
  "nbformat": 4,
  "nbformat_minor": 0,
  "metadata": {
    "colab": {
      "provenance": []
    },
    "kernelspec": {
      "name": "python3",
      "display_name": "Python 3"
    },
    "language_info": {
      "name": "python"
    }
  },
  "cells": [
    {
      "cell_type": "code",
      "execution_count": 2,
      "metadata": {
        "colab": {
          "base_uri": "https://localhost:8080/"
        },
        "id": "xVnlHHUa_3C1",
        "outputId": "07fd1e99-7429-4ef8-a00a-a6c299932067"
      },
      "outputs": [
        {
          "output_type": "stream",
          "name": "stdout",
          "text": [
            "2 5 7 9\n",
            "1 3 76\n",
            "1 2 3 5 7 9 76\n"
          ]
        }
      ],
      "source": [
        "lista = list(map(int, input().split()))\n",
        "listb = list(map(int, input().split()))\n",
        " \n",
        " \n",
        "def merge(a: list, b: list):\n",
        " \n",
        "    lena = len(a)\n",
        "    lenb = len(b)\n",
        " \n",
        "    # если первый список длинее, то меняем\n",
        "    # списки и переменные местами:\n",
        "    if len(a) > lenb:\n",
        "        a, b = b, a\n",
        "        lena, lenb = lenb, lena\n",
        " \n",
        "    i = 0   # индекс меньшего списка\n",
        "    j = 0   # индекс большего списка\n",
        "    listn = []   # новый список\n",
        " \n",
        "    # цикл проходит только по меньшему списку:\n",
        "    while i <= lena:\n",
        " \n",
        "        # если конец одного из списка, то\n",
        "        # добавляем оставшееся содержимое второго\n",
        "        # списка в конец нового и выходим:\n",
        "        if i == lena:\n",
        "            listn = listn + b[j:lenb]\n",
        "            return listn\n",
        "        elif j == lenb:\n",
        "            listn = listn + a[i:lena]\n",
        "            return listn\n",
        " \n",
        "        # проверяем числа списков и когда\n",
        "        # берем число одного из списка в новый,\n",
        "        # то увеличиваем соответствующий индекс:\n",
        "        if a[i] < b[j]:\n",
        "            listn.append(a[i])\n",
        "            i += 1\n",
        "        elif a[i] == b[j]:\n",
        "            listn.append(a[i])\n",
        "            listn.append(b[j])\n",
        "            i += 1\n",
        "            j += 1\n",
        "        else:\n",
        "            listn.append(b[j])\n",
        "            j += 1\n",
        " \n",
        " \n",
        "print(*merge(lista, listb))"
      ]
    }
  ]
}